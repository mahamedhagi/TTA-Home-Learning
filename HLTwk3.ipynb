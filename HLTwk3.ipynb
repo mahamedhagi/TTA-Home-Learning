{
 "cells": [
  {
   "cell_type": "markdown",
   "metadata": {},
   "source": [
    "# Task 2 \n",
    "\n",
    "## As an extension to the motorbike task that costs £2000 and loses 10% of its value every year. Set up a function that performs the calculation by passing in parameters. Then using a loop, print the value of the bike every following year until it falls below £1000."
   ]
  },
  {
   "cell_type": "code",
   "execution_count": 51,
   "metadata": {},
   "outputs": [],
   "source": [
    "def dep_calc2(price_bike, depre):\n",
    "    price_bike = price_bike * depre\n",
    "\n",
    "    return price_bike"
   ]
  },
  {
   "cell_type": "code",
   "execution_count": 52,
   "metadata": {},
   "outputs": [],
   "source": [
    "price_bike = 2000\n",
    "depre = 0.90"
   ]
  },
  {
   "cell_type": "code",
   "execution_count": 53,
   "metadata": {},
   "outputs": [
    {
     "name": "stdout",
     "output_type": "stream",
     "text": [
      "The price of the bike is £ 1800.00 and will go down next year\n",
      "The price of the bike is £ 1620.00 and will go down next year\n",
      "The price of the bike is £ 1458.00 and will go down next year\n",
      "The price of the bike is £ 1312.20 and will go down next year\n",
      "The price of the bike is £ 1180.98 and will go down next year\n",
      "The price of the bike is £ 1062.88 and will go down next year\n",
      "The price of the bike is £ 956.59 and will go down next year\n"
     ]
    }
   ],
   "source": [
    "while price_bike > 1000:\n",
    "    price_bike = dep_calc2(price_bike, depre)\n",
    "\n",
    "    print(f\"The price of the bike is £ {price_bike:.2f} and will go down next year\")\n"
   ]
  },
  {
   "cell_type": "markdown",
   "metadata": {},
   "source": [
    "# Task 3\n",
    "\n",
    "## Write a program which will ask for two numbers from a user. Then offer an option menu to the user giving them a choice of maths operators. Once the user has selected which operator they wish to use, perform the calculation by using a procedure and passing parameters. "
   ]
  },
  {
   "cell_type": "code",
   "execution_count": 8,
   "metadata": {},
   "outputs": [],
   "source": [
    "def final_calc(number_1, number_2):\n",
    "    operator = input(\"\"\" Choose your perferred operator:\n",
    "     a. Add, \n",
    "     b. Subtract, \n",
    "     c. Divide,\n",
    "     d. Multiply, \n",
    "     e. Square\"\"\")\n",
    "\n",
    "    if operator == 'a' or operator == 'A':\n",
    "        print('Here is your calculation:')\n",
    "        print(number_1 + second_2)\n",
    "    elif operator == 'b' or operator == 'B':\n",
    "        print('Here is your calcualtion:')\n",
    "        print(number_1 - second_2)\n",
    "    elif operator == 'c' or operator == 'C':\n",
    "        print('Here is your calculation:')\n",
    "        print(number_1 / second_2)\n",
    "    elif operator == 'd' or operator == 'D':\n",
    "        print('Here is your calcualtion:')\n",
    "        print(number_1 * second_2)\n",
    "    elif operator == 'e' or operator == 'E':\n",
    "        print('Here is your calcualtion:')\n",
    "        print(number_1 ** second_2)\n",
    "    else:\n",
    "        print(\"You've chosen an incorrect operator\")\n",
    "\n"
   ]
  },
  {
   "cell_type": "code",
   "execution_count": 9,
   "metadata": {},
   "outputs": [],
   "source": [
    "number_1 = int(input('Pick your first number:'))\n",
    "second_2 = int(input('Pick your second number:'))\n"
   ]
  },
  {
   "cell_type": "code",
   "execution_count": 10,
   "metadata": {},
   "outputs": [
    {
     "name": "stdout",
     "output_type": "stream",
     "text": [
      "Here is your calculation:\n",
      "10\n"
     ]
    }
   ],
   "source": [
    "final_calc(number_1,second_2)"
   ]
  }
 ],
 "metadata": {
  "interpreter": {
   "hash": "aee8b7b246df8f9039afb4144a1f6fd8d2ca17a180786b69acc140d282b71a49"
  },
  "kernelspec": {
   "display_name": "Python 3.9.7 64-bit",
   "language": "python",
   "name": "python3"
  },
  "language_info": {
   "codemirror_mode": {
    "name": "ipython",
    "version": 3
   },
   "file_extension": ".py",
   "mimetype": "text/x-python",
   "name": "python",
   "nbconvert_exporter": "python",
   "pygments_lexer": "ipython3",
   "version": "3.9.7"
  },
  "orig_nbformat": 4
 },
 "nbformat": 4,
 "nbformat_minor": 2
}
