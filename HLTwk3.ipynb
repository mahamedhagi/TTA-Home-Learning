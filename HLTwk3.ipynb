{
 "cells": [
  {
   "cell_type": "markdown",
   "metadata": {},
   "source": [
    "# Task 2 \n",
    "\n",
    "## As an extension to the motorbike task that costs £2000 and loses 10% of its value every year. Set up a function that performs the calculation by passing in parameters. Then using a loop, print the value of the bike every following year until it falls below £1000."
   ]
  },
  {
   "cell_type": "code",
   "execution_count": 3,
   "metadata": {},
   "outputs": [
    {
     "name": "stdout",
     "output_type": "stream",
     "text": [
      "2000\n",
      "1800.0\n",
      "1620.0\n",
      "1458.0\n",
      "1312.2\n",
      "1180.98\n",
      "1062.882\n"
     ]
    }
   ],
   "source": [
    "cost = 2000\n",
    "\n",
    "def depreciation_calc(cost):\n",
    "    while cost > 1000:\n",
    "        print(cost)\n",
    "        cost = cost * 0.9\n",
    "\n",
    "depreciation_calc(2000)"
   ]
  },
  {
   "cell_type": "markdown",
   "metadata": {},
   "source": [
    "# Task 3\n",
    "\n",
    "## Write a program which will ask for two numbers from a user. Then offer an option menu to the user giving them a choice of maths operators. Once the user has selected which operator they wish to use, perform the calculation by using a procedure and passing parameters. "
   ]
  },
  {
   "cell_type": "code",
   "execution_count": 10,
   "metadata": {},
   "outputs": [
    {
     "name": "stdout",
     "output_type": "stream",
     "text": [
      "Here is your calcualtion:\n",
      "72\n"
     ]
    }
   ],
   "source": [
    "number_1 = int(input('Pick your first number:'))\n",
    "second_2 = int(input('Pick your second number:'))\n",
    "operator = input(\"\"\" Choose your perferred operator:\n",
    "     a. Add, \n",
    "     b. Subtract, \n",
    "     c. Divide,\n",
    "     d. Multiply, \n",
    "     e. Square\"\"\")\n",
    "\n",
    "def final_calc():\n",
    "    if operator == 'a':\n",
    "        print('Here is your calculation:')\n",
    "        print(number_1 + second_2)\n",
    "    elif operator == 'b':\n",
    "        print('Here is your calcualtion:')\n",
    "        print(number_1 - second_2)\n",
    "    elif operator == 'c':\n",
    "        print('Here is your calculation:')\n",
    "        print(number_1 / second_2)\n",
    "    elif operator == 'd':\n",
    "        print('Here is your calcualtion:')\n",
    "        print(number_1 * second_2)\n",
    "    elif operator == 'e':\n",
    "        print('Here is your calcualtion:')\n",
    "        print(number_1 ** second_2)\n",
    "    else:\n",
    "        print(\"You've chosen an incorrect operator\")\n",
    "\n",
    "final_calc()\n",
    "\n"
   ]
  }
 ],
 "metadata": {
  "interpreter": {
   "hash": "aee8b7b246df8f9039afb4144a1f6fd8d2ca17a180786b69acc140d282b71a49"
  },
  "kernelspec": {
   "display_name": "Python 3.9.7 64-bit",
   "language": "python",
   "name": "python3"
  },
  "language_info": {
   "codemirror_mode": {
    "name": "ipython",
    "version": 3
   },
   "file_extension": ".py",
   "mimetype": "text/x-python",
   "name": "python",
   "nbconvert_exporter": "python",
   "pygments_lexer": "ipython3",
   "version": "3.9.7"
  },
  "orig_nbformat": 4
 },
 "nbformat": 4,
 "nbformat_minor": 2
}
