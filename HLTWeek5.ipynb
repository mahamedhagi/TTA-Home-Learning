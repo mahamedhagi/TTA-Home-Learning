{
 "cells": [
  {
   "cell_type": "code",
   "execution_count": 1,
   "metadata": {},
   "outputs": [],
   "source": [
    "import pandas as pd"
   ]
  },
  {
   "cell_type": "code",
   "execution_count": 2,
   "metadata": {},
   "outputs": [
    {
     "name": "stdout",
     "output_type": "stream",
     "text": [
      "   Destinations  Feedback_Score  Avg_Star_Rating  Number_All_Inclusive_hotels  \\\n",
      "0           UAE               9                5                            5   \n",
      "1           USA               7                4                           13   \n",
      "2         Spain              10                4                           15   \n",
      "3        Sweden               9                5                            3   \n",
      "4         Kenya               7                3                            5   \n",
      "5      Tanzania               6                3                            9   \n",
      "6          Oman               6                3                           12   \n",
      "7      Malaysia              10                4                            7   \n",
      "8     Indonesia               7                3                            5   \n",
      "9     Australia               4                3                           14   \n",
      "10  New Zealand               1                3                            2   \n",
      "11        Japan               1                5                           16   \n",
      "12  South Korea               7                3                            5   \n",
      "13     Thailand               9                3                           10   \n",
      "14  Switzerland              10                5                           10   \n",
      "\n",
      "   Most_Visited_city  \n",
      "0              Dubai  \n",
      "1                 LA  \n",
      "2              Barca  \n",
      "3          Stockholm  \n",
      "4            Mombasa  \n",
      "5           Zanzibar  \n",
      "6             Muscat  \n",
      "7       Kuala Lumpur  \n",
      "8               Bali  \n",
      "9             Sydney  \n",
      "10          Auckland  \n",
      "11             Tokyo  \n",
      "12             Seoul  \n",
      "13           Bangkok  \n",
      "14            Zurich  \n"
     ]
    }
   ],
   "source": [
    "destinations_data = pd.read_csv(\"destinations_2.csv\")\n",
    "\n",
    "print(destinations_data)"
   ]
  },
  {
   "cell_type": "markdown",
   "metadata": {},
   "source": [
    "# _Task 1_\n",
    "## _1. How many rows and columns are there in your file?_"
   ]
  },
  {
   "cell_type": "code",
   "execution_count": 3,
   "metadata": {},
   "outputs": [
    {
     "name": "stdout",
     "output_type": "stream",
     "text": [
      "(15, 5)\n"
     ]
    }
   ],
   "source": [
    "print(destinations_data.shape)"
   ]
  },
  {
   "cell_type": "markdown",
   "metadata": {},
   "source": [
    "# _Task 2_\n",
    "## _2. Print row 3-8 ( using iloc/loc)._"
   ]
  },
  {
   "cell_type": "code",
   "execution_count": 4,
   "metadata": {},
   "outputs": [
    {
     "name": "stdout",
     "output_type": "stream",
     "text": [
      "  Destinations  Feedback_Score  Avg_Star_Rating  Number_All_Inclusive_hotels  \\\n",
      "3       Sweden               9                5                            3   \n",
      "4        Kenya               7                3                            5   \n",
      "5     Tanzania               6                3                            9   \n",
      "6         Oman               6                3                           12   \n",
      "7     Malaysia              10                4                            7   \n",
      "8    Indonesia               7                3                            5   \n",
      "\n",
      "  Most_Visited_city  \n",
      "3         Stockholm  \n",
      "4           Mombasa  \n",
      "5          Zanzibar  \n",
      "6            Muscat  \n",
      "7      Kuala Lumpur  \n",
      "8              Bali  \n"
     ]
    }
   ],
   "source": [
    "# Using iloc\n",
    "\n",
    "print(destinations_data.iloc[3:9])"
   ]
  },
  {
   "cell_type": "code",
   "execution_count": 5,
   "metadata": {},
   "outputs": [
    {
     "name": "stdout",
     "output_type": "stream",
     "text": [
      "              Feedback_Score  Avg_Star_Rating  Number_All_Inclusive_hotels  \\\n",
      "Destinations                                                                 \n",
      "Sweden                     8                5                          135   \n",
      "Kenya                      8                3                          112   \n",
      "Tanzania                   6                3                           89   \n",
      "Oman                       6                3                           62   \n",
      "Malaysia                  10                4                          342   \n",
      "Indonesia                  7                3                          231   \n",
      "\n",
      "             Most_Visited_city  \n",
      "Destinations                    \n",
      "Sweden               Stockholm  \n",
      "Kenya                  Mombasa  \n",
      "Tanzania              Zanzibar  \n",
      "Oman                    Muscat  \n",
      "Malaysia          Kuala Lumpur  \n",
      "Indonesia                 Bali  \n"
     ]
    }
   ],
   "source": [
    "# Using loc\n",
    "destinations_data_loc = pd.read_csv(\"destinations.csv\", index_col= \"Destinations\")\n",
    "\n",
    "print(destinations_data_loc.loc[[\"Sweden\", \"Kenya\", \"Tanzania\", \"Oman\", \"Malaysia\", \"Indonesia\"]])"
   ]
  },
  {
   "cell_type": "markdown",
   "metadata": {},
   "source": [
    "# _Task 3_\n",
    "\n",
    "## _3. Find the mean number of all-inclusive hotels across all destinations._"
   ]
  },
  {
   "cell_type": "code",
   "execution_count": 6,
   "metadata": {},
   "outputs": [
    {
     "name": "stdout",
     "output_type": "stream",
     "text": [
      "<bound method NDFrame._add_numeric_operations.<locals>.mean of 0      5\n",
      "1     13\n",
      "2     15\n",
      "3      3\n",
      "4      5\n",
      "5      9\n",
      "6     12\n",
      "7      7\n",
      "8      5\n",
      "9     14\n",
      "10     2\n",
      "11    16\n",
      "12     5\n",
      "13    10\n",
      "14    10\n",
      "Name: Number_All_Inclusive_hotels, dtype: int64>\n"
     ]
    }
   ],
   "source": [
    "print(destinations_data[\"Number_All_Inclusive_hotels\"].mean)"
   ]
  },
  {
   "cell_type": "markdown",
   "metadata": {},
   "source": [
    "# _Task 4_\n",
    "\n",
    "## _4. Find the lowest scoring destination._"
   ]
  },
  {
   "cell_type": "code",
   "execution_count": 13,
   "metadata": {},
   "outputs": [
    {
     "data": {
      "text/plain": [
       "Destinations                   New Zealand\n",
       "Feedback_Score                           1\n",
       "Avg_Star_Rating                          3\n",
       "Number_All_Inclusive_hotels              2\n",
       "Most_Visited_city                 Auckland\n",
       "Name: 10, dtype: object"
      ]
     },
     "execution_count": 13,
     "metadata": {},
     "output_type": "execute_result"
    }
   ],
   "source": [
    "destinations_data['Feedback_Score'].idxmin()\n",
    "destinations_data.iloc[10,:]"
   ]
  },
  {
   "cell_type": "markdown",
   "metadata": {},
   "source": [
    "# _Task 5_\n",
    "\n",
    "## _5. Find the highest scoring destination._"
   ]
  },
  {
   "cell_type": "code",
   "execution_count": 18,
   "metadata": {},
   "outputs": [
    {
     "data": {
      "text/plain": [
       "Destinations                   Spain\n",
       "Feedback_Score                    10\n",
       "Avg_Star_Rating                    4\n",
       "Number_All_Inclusive_hotels       15\n",
       "Most_Visited_city              Barca\n",
       "Name: 2, dtype: object"
      ]
     },
     "execution_count": 18,
     "metadata": {},
     "output_type": "execute_result"
    }
   ],
   "source": [
    "destinations_data['Feedback_Score'].idxmax()\n",
    "destinations_data.iloc[2,:]"
   ]
  },
  {
   "cell_type": "markdown",
   "metadata": {},
   "source": [
    "# _Task 6_\n",
    "\n",
    "## _6. Find all the destinations where there are more than 9 all-inclusive hotels._"
   ]
  },
  {
   "cell_type": "code",
   "execution_count": 21,
   "metadata": {},
   "outputs": [
    {
     "data": {
      "text/plain": [
       "0     False\n",
       "1      True\n",
       "2      True\n",
       "3     False\n",
       "4     False\n",
       "5     False\n",
       "6      True\n",
       "7     False\n",
       "8     False\n",
       "9      True\n",
       "10    False\n",
       "11     True\n",
       "12    False\n",
       "13     True\n",
       "14     True\n",
       "Name: Number_All_Inclusive_hotels, dtype: bool"
      ]
     },
     "execution_count": 21,
     "metadata": {},
     "output_type": "execute_result"
    }
   ],
   "source": [
    "more_than_nine = destinations_data['Number_All_Inclusive_hotels'] > 9\n",
    "\n",
    "more_than_nine\n"
   ]
  },
  {
   "cell_type": "code",
   "execution_count": 22,
   "metadata": {},
   "outputs": [
    {
     "data": {
      "text/html": [
       "<div>\n",
       "<style scoped>\n",
       "    .dataframe tbody tr th:only-of-type {\n",
       "        vertical-align: middle;\n",
       "    }\n",
       "\n",
       "    .dataframe tbody tr th {\n",
       "        vertical-align: top;\n",
       "    }\n",
       "\n",
       "    .dataframe thead th {\n",
       "        text-align: right;\n",
       "    }\n",
       "</style>\n",
       "<table border=\"1\" class=\"dataframe\">\n",
       "  <thead>\n",
       "    <tr style=\"text-align: right;\">\n",
       "      <th></th>\n",
       "      <th>Destinations</th>\n",
       "      <th>Feedback_Score</th>\n",
       "      <th>Avg_Star_Rating</th>\n",
       "      <th>Number_All_Inclusive_hotels</th>\n",
       "      <th>Most_Visited_city</th>\n",
       "    </tr>\n",
       "  </thead>\n",
       "  <tbody>\n",
       "    <tr>\n",
       "      <th>1</th>\n",
       "      <td>USA</td>\n",
       "      <td>7</td>\n",
       "      <td>4</td>\n",
       "      <td>13</td>\n",
       "      <td>LA</td>\n",
       "    </tr>\n",
       "    <tr>\n",
       "      <th>2</th>\n",
       "      <td>Spain</td>\n",
       "      <td>10</td>\n",
       "      <td>4</td>\n",
       "      <td>15</td>\n",
       "      <td>Barca</td>\n",
       "    </tr>\n",
       "    <tr>\n",
       "      <th>6</th>\n",
       "      <td>Oman</td>\n",
       "      <td>6</td>\n",
       "      <td>3</td>\n",
       "      <td>12</td>\n",
       "      <td>Muscat</td>\n",
       "    </tr>\n",
       "    <tr>\n",
       "      <th>9</th>\n",
       "      <td>Australia</td>\n",
       "      <td>4</td>\n",
       "      <td>3</td>\n",
       "      <td>14</td>\n",
       "      <td>Sydney</td>\n",
       "    </tr>\n",
       "    <tr>\n",
       "      <th>11</th>\n",
       "      <td>Japan</td>\n",
       "      <td>1</td>\n",
       "      <td>5</td>\n",
       "      <td>16</td>\n",
       "      <td>Tokyo</td>\n",
       "    </tr>\n",
       "  </tbody>\n",
       "</table>\n",
       "</div>"
      ],
      "text/plain": [
       "   Destinations  Feedback_Score  Avg_Star_Rating  Number_All_Inclusive_hotels  \\\n",
       "1           USA               7                4                           13   \n",
       "2         Spain              10                4                           15   \n",
       "6          Oman               6                3                           12   \n",
       "9     Australia               4                3                           14   \n",
       "11        Japan               1                5                           16   \n",
       "\n",
       "   Most_Visited_city  \n",
       "1                 LA  \n",
       "2              Barca  \n",
       "6             Muscat  \n",
       "9             Sydney  \n",
       "11             Tokyo  "
      ]
     },
     "execution_count": 22,
     "metadata": {},
     "output_type": "execute_result"
    }
   ],
   "source": [
    "all_inclusive = destinations_data[more_than_nine]\n",
    "\n",
    "all_inclusive.head()"
   ]
  },
  {
   "cell_type": "markdown",
   "metadata": {},
   "source": [
    "# _Task 7_\n",
    "\n",
    "## _7. Filter the data by score above 8._"
   ]
  },
  {
   "cell_type": "code",
   "execution_count": 23,
   "metadata": {},
   "outputs": [
    {
     "data": {
      "text/plain": [
       "0      True\n",
       "1     False\n",
       "2      True\n",
       "3      True\n",
       "4     False\n",
       "5     False\n",
       "6     False\n",
       "7      True\n",
       "8     False\n",
       "9     False\n",
       "10    False\n",
       "11    False\n",
       "12    False\n",
       "13     True\n",
       "14     True\n",
       "Name: Feedback_Score, dtype: bool"
      ]
     },
     "execution_count": 23,
     "metadata": {},
     "output_type": "execute_result"
    }
   ],
   "source": [
    "above_eight = destinations_data['Feedback_Score'] > 8\n",
    "\n",
    "above_eight"
   ]
  },
  {
   "cell_type": "code",
   "execution_count": 24,
   "metadata": {},
   "outputs": [
    {
     "data": {
      "text/html": [
       "<div>\n",
       "<style scoped>\n",
       "    .dataframe tbody tr th:only-of-type {\n",
       "        vertical-align: middle;\n",
       "    }\n",
       "\n",
       "    .dataframe tbody tr th {\n",
       "        vertical-align: top;\n",
       "    }\n",
       "\n",
       "    .dataframe thead th {\n",
       "        text-align: right;\n",
       "    }\n",
       "</style>\n",
       "<table border=\"1\" class=\"dataframe\">\n",
       "  <thead>\n",
       "    <tr style=\"text-align: right;\">\n",
       "      <th></th>\n",
       "      <th>Destinations</th>\n",
       "      <th>Feedback_Score</th>\n",
       "      <th>Avg_Star_Rating</th>\n",
       "      <th>Number_All_Inclusive_hotels</th>\n",
       "      <th>Most_Visited_city</th>\n",
       "    </tr>\n",
       "  </thead>\n",
       "  <tbody>\n",
       "    <tr>\n",
       "      <th>0</th>\n",
       "      <td>UAE</td>\n",
       "      <td>9</td>\n",
       "      <td>5</td>\n",
       "      <td>5</td>\n",
       "      <td>Dubai</td>\n",
       "    </tr>\n",
       "    <tr>\n",
       "      <th>2</th>\n",
       "      <td>Spain</td>\n",
       "      <td>10</td>\n",
       "      <td>4</td>\n",
       "      <td>15</td>\n",
       "      <td>Barca</td>\n",
       "    </tr>\n",
       "    <tr>\n",
       "      <th>3</th>\n",
       "      <td>Sweden</td>\n",
       "      <td>9</td>\n",
       "      <td>5</td>\n",
       "      <td>3</td>\n",
       "      <td>Stockholm</td>\n",
       "    </tr>\n",
       "    <tr>\n",
       "      <th>7</th>\n",
       "      <td>Malaysia</td>\n",
       "      <td>10</td>\n",
       "      <td>4</td>\n",
       "      <td>7</td>\n",
       "      <td>Kuala Lumpur</td>\n",
       "    </tr>\n",
       "    <tr>\n",
       "      <th>13</th>\n",
       "      <td>Thailand</td>\n",
       "      <td>9</td>\n",
       "      <td>3</td>\n",
       "      <td>10</td>\n",
       "      <td>Bangkok</td>\n",
       "    </tr>\n",
       "  </tbody>\n",
       "</table>\n",
       "</div>"
      ],
      "text/plain": [
       "   Destinations  Feedback_Score  Avg_Star_Rating  Number_All_Inclusive_hotels  \\\n",
       "0           UAE               9                5                            5   \n",
       "2         Spain              10                4                           15   \n",
       "3        Sweden               9                5                            3   \n",
       "7      Malaysia              10                4                            7   \n",
       "13     Thailand               9                3                           10   \n",
       "\n",
       "   Most_Visited_city  \n",
       "0              Dubai  \n",
       "2              Barca  \n",
       "3          Stockholm  \n",
       "7       Kuala Lumpur  \n",
       "13           Bangkok  "
      ]
     },
     "execution_count": 24,
     "metadata": {},
     "output_type": "execute_result"
    }
   ],
   "source": [
    "hotels_above_8 = destinations_data[above_eight]\n",
    "\n",
    "hotels_above_8.head()"
   ]
  },
  {
   "cell_type": "markdown",
   "metadata": {},
   "source": [
    "# _Task 8_\n",
    "\n",
    "## _8. Filter the data score below 2 (I need to know if these destinations should be removed or there is a problem)_"
   ]
  },
  {
   "cell_type": "code",
   "execution_count": 25,
   "metadata": {},
   "outputs": [
    {
     "data": {
      "text/plain": [
       "0     False\n",
       "1     False\n",
       "2     False\n",
       "3     False\n",
       "4     False\n",
       "5     False\n",
       "6     False\n",
       "7     False\n",
       "8     False\n",
       "9     False\n",
       "10     True\n",
       "11     True\n",
       "12    False\n",
       "13    False\n",
       "14    False\n",
       "Name: Feedback_Score, dtype: bool"
      ]
     },
     "execution_count": 25,
     "metadata": {},
     "output_type": "execute_result"
    }
   ],
   "source": [
    "below_2 = destinations_data['Feedback_Score'] < 2\n",
    "\n",
    "below_2"
   ]
  },
  {
   "cell_type": "code",
   "execution_count": 26,
   "metadata": {},
   "outputs": [
    {
     "data": {
      "text/html": [
       "<div>\n",
       "<style scoped>\n",
       "    .dataframe tbody tr th:only-of-type {\n",
       "        vertical-align: middle;\n",
       "    }\n",
       "\n",
       "    .dataframe tbody tr th {\n",
       "        vertical-align: top;\n",
       "    }\n",
       "\n",
       "    .dataframe thead th {\n",
       "        text-align: right;\n",
       "    }\n",
       "</style>\n",
       "<table border=\"1\" class=\"dataframe\">\n",
       "  <thead>\n",
       "    <tr style=\"text-align: right;\">\n",
       "      <th></th>\n",
       "      <th>Destinations</th>\n",
       "      <th>Feedback_Score</th>\n",
       "      <th>Avg_Star_Rating</th>\n",
       "      <th>Number_All_Inclusive_hotels</th>\n",
       "      <th>Most_Visited_city</th>\n",
       "    </tr>\n",
       "  </thead>\n",
       "  <tbody>\n",
       "    <tr>\n",
       "      <th>10</th>\n",
       "      <td>New Zealand</td>\n",
       "      <td>1</td>\n",
       "      <td>3</td>\n",
       "      <td>2</td>\n",
       "      <td>Auckland</td>\n",
       "    </tr>\n",
       "    <tr>\n",
       "      <th>11</th>\n",
       "      <td>Japan</td>\n",
       "      <td>1</td>\n",
       "      <td>5</td>\n",
       "      <td>16</td>\n",
       "      <td>Tokyo</td>\n",
       "    </tr>\n",
       "  </tbody>\n",
       "</table>\n",
       "</div>"
      ],
      "text/plain": [
       "   Destinations  Feedback_Score  Avg_Star_Rating  Number_All_Inclusive_hotels  \\\n",
       "10  New Zealand               1                3                            2   \n",
       "11        Japan               1                5                           16   \n",
       "\n",
       "   Most_Visited_city  \n",
       "10          Auckland  \n",
       "11             Tokyo  "
      ]
     },
     "execution_count": 26,
     "metadata": {},
     "output_type": "execute_result"
    }
   ],
   "source": [
    "below_two_hotels = destinations_data[below_2]\n",
    "\n",
    "below_two_hotels.head()"
   ]
  }
 ],
 "metadata": {
  "interpreter": {
   "hash": "aee8b7b246df8f9039afb4144a1f6fd8d2ca17a180786b69acc140d282b71a49"
  },
  "kernelspec": {
   "display_name": "Python 3.9.7 64-bit",
   "language": "python",
   "name": "python3"
  },
  "language_info": {
   "codemirror_mode": {
    "name": "ipython",
    "version": 3
   },
   "file_extension": ".py",
   "mimetype": "text/x-python",
   "name": "python",
   "nbconvert_exporter": "python",
   "pygments_lexer": "ipython3",
   "version": "3.9.7"
  },
  "orig_nbformat": 4
 },
 "nbformat": 4,
 "nbformat_minor": 2
}
