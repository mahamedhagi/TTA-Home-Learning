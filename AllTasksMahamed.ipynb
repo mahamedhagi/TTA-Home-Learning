{
 "cells": [
  {
   "cell_type": "markdown",
   "metadata": {},
   "source": [
    "# Task 1\n",
    "## _Write a program that does the following:​_\n",
    "\n",
    "### a) Stores a random number (1-10) in a variable – see hint below.​\n",
    "\n",
    "### b) Asks a user for their name and stores this in a variable.​\n",
    "\n",
    "### c) Asks a user to guess the number between 1 and 10.​\n",
    "\n",
    "### d) Tells the user whether they have guessed correctly."
   ]
  },
  {
   "cell_type": "code",
   "execution_count": 26,
   "metadata": {},
   "outputs": [
    {
     "name": "stdout",
     "output_type": "stream",
     "text": [
      "Mahamed, your guess of 90 is incorrect it was actually 9. Better luck next time!\n"
     ]
    }
   ],
   "source": [
    "import random\n",
    "\n",
    "random_number = random.randint(1,10)\n",
    "\n",
    "user_name = input('What is your name?...')\n",
    "\n",
    "guess_number = int(input(f\"{user_name.title()}, guess a number between 1 and 10.\"))\n",
    "\n",
    "if guess_number == random_number:\n",
    "    print(f\"Great work {user_name.title()}! your guess is correct.\")\n",
    "    \n",
    "else: print(f\"{user_name.title()}, your guess of {guess_number} is incorrect it was actually {random_number}. Better luck next time!\")\n"
   ]
  },
  {
   "cell_type": "markdown",
   "metadata": {},
   "source": [
    "# Task 2\n",
    "\n",
    "## _Write a program that asks a user for their favourite number between 1 and 100 and then tells them a joke based on the number. You should use a minimum of 3 jokes._  \n",
    "\n"
   ]
  },
  {
   "cell_type": "code",
   "execution_count": 15,
   "metadata": {},
   "outputs": [
    {
     "name": "stdout",
     "output_type": "stream",
     "text": [
      "How do you make seven an even number? Remove the S\n"
     ]
    }
   ],
   "source": [
    "name = input('What is your name?')\n",
    "\n",
    "fav_number = int(input(f\"Tell me your favourite number {name}, and I'll tell you a joke?\"))\n",
    "\n",
    "if fav_number == 6:\n",
    "    print(\"Why is six scared of seven? Because seven, eight, nine!\")\n",
    "elif (fav_number % 2) != 0:\n",
    "    print('What is odd? Every alternate number!')\n",
    "elif (fav_number % 2) == 0:\n",
    "    print('How do you make seven an even number? Remove the S')\n",
    "elif fav_number == 10:\n",
    "    print('What are ten things you can always count on? Your fingers.')"
   ]
  },
  {
   "cell_type": "markdown",
   "metadata": {},
   "source": [
    "# Task 3\n",
    "\n",
    "## _Write a program that allows user to enter their favourite starter, main course, dessert and drink. Concatenate these and output a message which says – “Your favourite meal is  ………with a glass of….”_"
   ]
  },
  {
   "cell_type": "code",
   "execution_count": 19,
   "metadata": {},
   "outputs": [
    {
     "name": "stdout",
     "output_type": "stream",
     "text": [
      "James, your favourite meal is prawns, steak with a glass of cola\n"
     ]
    }
   ],
   "source": [
    "name_1 = input('What is your name?')\n",
    "\n",
    "fav_starter = input('What is your favourite starter?')\n",
    "\n",
    "main_course = input('What is your favourite main course?')\n",
    "\n",
    "drink = input('What is your favourite drink?')\n",
    "\n",
    "print(f\"{name_1.title()}, your favourite meal is {fav_starter}, {main_course} with a glass of {drink}.\")"
   ]
  },
  {
   "cell_type": "markdown",
   "metadata": {},
   "source": [
    "# Task 4\n",
    "\n",
    "##  _A motorbike costs £2000 and loses 10% of its value every year. Using a loop, print the value of the bike every following year until it falls below £1000._"
   ]
  },
  {
   "cell_type": "code",
   "execution_count": 25,
   "metadata": {},
   "outputs": [
    {
     "name": "stdout",
     "output_type": "stream",
     "text": [
      "2000\n",
      "1800.0\n",
      "1620.0\n",
      "1458.0\n",
      "1312.2\n",
      "1180.98\n",
      "1062.882\n"
     ]
    }
   ],
   "source": [
    "cost = 2000\n",
    "\n",
    "while cost > 1000:\n",
    "    print(cost)\n",
    "    cost = cost * 0.9\n",
    "  "
   ]
  },
  {
   "cell_type": "markdown",
   "metadata": {},
   "source": [
    "# Task 5​\n",
    "\n",
    "## Write a program which will ask for two numbers from a user. Then offer a menu to the user giving them a choice of operator:​\n",
    "\n",
    "### e.g. – Enter “a” if you want to add​ and “b” if you want to subtract​\n",
    "\n",
    "### Include +, -, /, *, ** square (to the power of). Once the user has selected which operator they wish to use, perform the calculation."
   ]
  },
  {
   "cell_type": "code",
   "execution_count": 24,
   "metadata": {},
   "outputs": [
    {
     "name": "stdout",
     "output_type": "stream",
     "text": [
      "Here is your calcualtion:\n",
      "40\n"
     ]
    }
   ],
   "source": [
    "number_1 = int(input('Pick your first number:'))\n",
    "\n",
    "second_2 = int(input('Pick your second number:'))\n",
    "\n",
    "operator = input(\"\"\" Choose your perferred operator:\n",
    "\n",
    "a. Add, \n",
    "b. Subtract, \n",
    "c. Divide, \n",
    "d. Multiply, \n",
    "e. Square\"\"\")\n",
    "\n",
    "if operator == 'a':\n",
    "    print('Here is your calcualtion:')\n",
    "    print(number_1 + second_2)\n",
    "elif operator == 'b':\n",
    "    print('Here is your calcualtion:')\n",
    "    print(number_1 - second_2)\n",
    "elif operator == 'c':\n",
    "    print('Here is your calcualtion:')\n",
    "    print(number_1 / second_2)\n",
    "elif operator == 'd':\n",
    "    print('Here is your calcualtion:')\n",
    "    print(number_1 * second_2)\n",
    "elif operator == 'e':\n",
    "    print('Here is your calcualtion:')\n",
    "    print(number_1 ** second_2)\n"
   ]
  }
 ],
 "metadata": {
  "interpreter": {
   "hash": "aee8b7b246df8f9039afb4144a1f6fd8d2ca17a180786b69acc140d282b71a49"
  },
  "kernelspec": {
   "display_name": "Python 3.9.7 64-bit",
   "language": "python",
   "name": "python3"
  },
  "language_info": {
   "codemirror_mode": {
    "name": "ipython",
    "version": 3
   },
   "file_extension": ".py",
   "mimetype": "text/x-python",
   "name": "python",
   "nbconvert_exporter": "python",
   "pygments_lexer": "ipython3",
   "version": "3.9.7"
  },
  "orig_nbformat": 4
 },
 "nbformat": 4,
 "nbformat_minor": 2
}
