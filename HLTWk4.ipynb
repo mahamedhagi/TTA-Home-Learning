{
 "cells": [
  {
   "cell_type": "markdown",
   "metadata": {},
   "source": [
    "# Task 1\n",
    "\n",
    "## _Write a program that allows you to enter 4 numbers and stores them in a file called “Numbers”​ 3​, 45​, 83​, 21​_\n",
    "\n",
    "## _Have a go at ‘w’ ‘r’  ‘a’_"
   ]
  },
  {
   "cell_type": "code",
   "execution_count": 53,
   "metadata": {},
   "outputs": [],
   "source": [
    "numbers_file = open(\"my_numbers_file.txt\", 'w')\n",
    "\n",
    "numbers_file.write(str(\"3,45,83,21\"))\n",
    "\n",
    "numbers_file.close()"
   ]
  },
  {
   "cell_type": "code",
   "execution_count": 54,
   "metadata": {},
   "outputs": [
    {
     "name": "stdout",
     "output_type": "stream",
     "text": [
      "3,45,83,21\n"
     ]
    }
   ],
   "source": [
    "with open(\"my_numbers_file.txt\", \"r\") as numbers_file:\n",
    "    info = numbers_file.read()\n",
    "    print(info)\n",
    "\n",
    "numbers_file.close()"
   ]
  },
  {
   "cell_type": "code",
   "execution_count": 55,
   "metadata": {},
   "outputs": [],
   "source": [
    "numbers_file = open(\"my_numbers_file.txt\", 'a')\n",
    "numbers_file.write(\"More numbers: 900,1,4,6\")\n",
    "numbers_file.close()"
   ]
  },
  {
   "cell_type": "code",
   "execution_count": 56,
   "metadata": {},
   "outputs": [
    {
     "name": "stdout",
     "output_type": "stream",
     "text": [
      "3,45,83,21More numbers: 900,1,4,6\n"
     ]
    }
   ],
   "source": [
    "with open(\"my_numbers_file.txt\", \"r\") as numbers_file:\n",
    "    info = numbers_file.read()\n",
    "    print(info)\n",
    "\n",
    "numbers_file.close()"
   ]
  },
  {
   "cell_type": "markdown",
   "metadata": {},
   "source": [
    "# Task 2 \n",
    "\n",
    "## _Write a program to ask a student for their percentage mark and convert this to a grade.​ The conversion will be done in a function called mark_grade_."
   ]
  },
  {
   "cell_type": "code",
   "execution_count": 47,
   "metadata": {},
   "outputs": [],
   "source": [
    "def mark_grade(grade):\n",
    "    if grade <= 45:\n",
    "        print('Your grade is D')\n",
    "    elif grade >= 45 and grade <=55:\n",
    "        print('Your grade is C')\n",
    "    elif grade >= 55 and grade <= 70:\n",
    "        print('Your grade is B')\n",
    "    elif grade >= 70 and grade <=100:\n",
    "        print('Your grade is A')\n",
    "\n",
    "    return grade\n",
    "    \n",
    "def tar_grade(target_grade):    \n",
    "    if target_grade > grade:\n",
    "        print('Your target grade is higher than your actual grade')\n",
    "    elif target_grade == grade:\n",
    "        print('Your target grade is equal to your grade')\n",
    "    elif target_grade < grade:\n",
    "        print('Your target grade is lower than your actual grade')\n",
    "\n",
    "    return target_grade"
   ]
  },
  {
   "cell_type": "code",
   "execution_count": 48,
   "metadata": {},
   "outputs": [],
   "source": [
    "grade = int(input('Enter your precentage mark here to find out your grade:'))\n",
    "target_grade = int(input('Enter your target grade here:'))"
   ]
  },
  {
   "cell_type": "code",
   "execution_count": 49,
   "metadata": {},
   "outputs": [
    {
     "name": "stdout",
     "output_type": "stream",
     "text": [
      "Your grade is B\n",
      "Your target grade is lower than your actual grade\n"
     ]
    },
    {
     "data": {
      "text/plain": [
       "40"
      ]
     },
     "execution_count": 49,
     "metadata": {},
     "output_type": "execute_result"
    }
   ],
   "source": [
    "mark_grade(grade)\n",
    "\n",
    "tar_grade(target_grade)\n"
   ]
  },
  {
   "cell_type": "code",
   "execution_count": 2,
   "metadata": {},
   "outputs": [],
   "source": [
    "import numpy as np"
   ]
  },
  {
   "cell_type": "markdown",
   "metadata": {},
   "source": [
    "# Task 3\n",
    "\n",
    "## _Create a 1D array of numbers from 0 to 9_"
   ]
  },
  {
   "cell_type": "code",
   "execution_count": 76,
   "metadata": {},
   "outputs": [
    {
     "name": "stdout",
     "output_type": "stream",
     "text": [
      "[0 1 2 3 4 5 6 7 8 9]\n"
     ]
    }
   ],
   "source": [
    "one_dim_array = np.arange(0,10)\n",
    "\n",
    "print(one_dim_array)"
   ]
  },
  {
   "cell_type": "markdown",
   "metadata": {},
   "source": [
    "# Task 4\n",
    "\n",
    "## _Create a 3×3 NumPy array of all Boolean value Trues_\n"
   ]
  },
  {
   "cell_type": "code",
   "execution_count": 101,
   "metadata": {},
   "outputs": [
    {
     "name": "stdout",
     "output_type": "stream",
     "text": [
      "9\n",
      "[ True  True  True  True  True  True  True  True  True]\n"
     ]
    }
   ],
   "source": [
    "bool_array = np.array([1,1,1,1,1,1,1,1,1], dtype = bool)\n",
    "\n",
    "print(len(bool_array))\n",
    "\n",
    "print(bool_array)"
   ]
  },
  {
   "cell_type": "code",
   "execution_count": 102,
   "metadata": {},
   "outputs": [
    {
     "name": "stdout",
     "output_type": "stream",
     "text": [
      "[[ True  True  True]\n",
      " [ True  True  True]\n",
      " [ True  True  True]]\n"
     ]
    }
   ],
   "source": [
    "new_bool_array = bool_array.reshape(3,3)\n",
    "\n",
    "print(new_bool_array)"
   ]
  },
  {
   "cell_type": "markdown",
   "metadata": {},
   "source": [
    "# Task 5\n",
    "\n",
    "## _Extract all odd numbers from array of 1-10_"
   ]
  },
  {
   "cell_type": "code",
   "execution_count": 109,
   "metadata": {},
   "outputs": [
    {
     "name": "stdout",
     "output_type": "stream",
     "text": [
      "[1 3 5 7 9]\n"
     ]
    }
   ],
   "source": [
    "odd_numbers_array = np.arange(1,11,2)\n",
    "\n",
    "print(odd_numbers_array)"
   ]
  },
  {
   "cell_type": "markdown",
   "metadata": {},
   "source": [
    "# Task 6\n",
    "\n",
    "## _Replace all odd numbers in an array of 1-10 with the value -1​_"
   ]
  },
  {
   "cell_type": "code",
   "execution_count": 110,
   "metadata": {},
   "outputs": [
    {
     "name": "stdout",
     "output_type": "stream",
     "text": [
      "[-1 -1 -1 -1 -1]\n"
     ]
    }
   ],
   "source": [
    "odd_numbers_array[odd_numbers_array % 2 != 0] = -1\n",
    "\n",
    "print(odd_numbers_array)"
   ]
  },
  {
   "cell_type": "markdown",
   "metadata": {},
   "source": [
    "# Task 7\n",
    "\n",
    "## _Convert a 1D array to a 2D array with 2 rows_"
   ]
  },
  {
   "cell_type": "code",
   "execution_count": 124,
   "metadata": {},
   "outputs": [
    {
     "name": "stdout",
     "output_type": "stream",
     "text": [
      "[[1 2]\n",
      " [3 4]]\n"
     ]
    }
   ],
   "source": [
    "one_d_array = np.arange(1,5)\n",
    "\n",
    "new_twod_array = one_d_array.reshape(2,2)\n",
    "\n",
    "print(new_twod_array)"
   ]
  },
  {
   "cell_type": "markdown",
   "metadata": {},
   "source": [
    "# Task 8\n",
    "\n",
    "## _Create two arrays a and b, stack these two arrays vertically use the  np.dot and np.sum to calculate totals_"
   ]
  },
  {
   "cell_type": "code",
   "execution_count": 134,
   "metadata": {},
   "outputs": [
    {
     "name": "stdout",
     "output_type": "stream",
     "text": [
      "[[6 7 8 9]\n",
      " [1 2 3 4]]\n",
      "80\n",
      "40\n"
     ]
    }
   ],
   "source": [
    "a_array = np.arange(1,5)\n",
    "\n",
    "b_array = np.arange(6,10)\n",
    "\n",
    "vertical_array = np.vstack((b_array,a_array))\n",
    "\n",
    "print(vertical_array)\n",
    "\n",
    "multi = np.dot(a_array,b_array)\n",
    "\n",
    "print(multi)\n",
    "\n",
    "sum_of_arrays = np.sum(vertical_array)\n",
    "\n",
    "print(sum_of_arrays)\n",
    "\n"
   ]
  },
  {
   "cell_type": "markdown",
   "metadata": {},
   "source": [
    "# Task 9 \n",
    "\n",
    "## _Create the following pattern without hardcoding. Use only NumPy  functions. array(1,1,1,2,2,2,3,3,3,1,2,3,1,2,3,1,2,3)​_\n"
   ]
  },
  {
   "cell_type": "code",
   "execution_count": 148,
   "metadata": {},
   "outputs": [
    {
     "name": "stdout",
     "output_type": "stream",
     "text": [
      "[1. 1. 1. 2. 2. 2. 3. 3. 3. 1. 2. 3. 1. 2. 3. 1. 2. 3.]\n"
     ]
    }
   ],
   "source": [
    "first = np.ones(3)\n",
    "\n",
    "second = np.ones(3) * 2\n",
    "\n",
    "third = np.ones(3) * 3\n",
    "\n",
    "fourth = np.arange(1,4)\n",
    "\n",
    "fifth = fourth.copy()\n",
    "\n",
    "sixth = fifth.copy()\n",
    "\n",
    "pattern = np.concatenate((first,second,third,fourth,fifth,sixth))\n",
    "\n",
    "print(pattern)\n"
   ]
  },
  {
   "cell_type": "markdown",
   "metadata": {},
   "source": [
    "# Task 10\n",
    "\n",
    "## _In two arrays a ( 1,2,3,4,5) and b ( 4,5,6,7,8,9) – remove all repeating  items present in array b​_"
   ]
  },
  {
   "cell_type": "code",
   "execution_count": 138,
   "metadata": {},
   "outputs": [
    {
     "name": "stdout",
     "output_type": "stream",
     "text": [
      "[1 2 3 4 5 4 5 6 7 8 9]\n",
      "[1 2 3 4 5 6 7 8 9]\n"
     ]
    }
   ],
   "source": [
    "aarray = np.array([1,2,3,4,5])\n",
    "\n",
    "barray = np.array([4,5,6,7,8,9])\n",
    "\n",
    "joined = np.concatenate((aarray,barray))\n",
    "\n",
    "print(joined)\n",
    "\n",
    "unique_array = np.unique(joined)\n",
    "\n",
    "print(unique_array)"
   ]
  },
  {
   "cell_type": "markdown",
   "metadata": {},
   "source": [
    "# Task 11\n",
    "\n",
    "## _Get all items between 3 and 7 from a and b and sum them together_"
   ]
  },
  {
   "cell_type": "code",
   "execution_count": 149,
   "metadata": {},
   "outputs": [
    {
     "name": "stdout",
     "output_type": "stream",
     "text": [
      "33\n"
     ]
    }
   ],
   "source": [
    "required_items = unique_array[2:8]\n",
    "\n",
    "total = np.sum(required_items)\n",
    "\n",
    "print(total)"
   ]
  }
 ],
 "metadata": {
  "interpreter": {
   "hash": "aee8b7b246df8f9039afb4144a1f6fd8d2ca17a180786b69acc140d282b71a49"
  },
  "kernelspec": {
   "display_name": "Python 3.9.7 64-bit",
   "language": "python",
   "name": "python3"
  },
  "language_info": {
   "codemirror_mode": {
    "name": "ipython",
    "version": 3
   },
   "file_extension": ".py",
   "mimetype": "text/x-python",
   "name": "python",
   "nbconvert_exporter": "python",
   "pygments_lexer": "ipython3",
   "version": "3.9.7"
  },
  "orig_nbformat": 4
 },
 "nbformat": 4,
 "nbformat_minor": 2
}
